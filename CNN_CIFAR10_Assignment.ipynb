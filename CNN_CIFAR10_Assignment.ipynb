{
  "nbformat": 4,
  "nbformat_minor": 0,
  "metadata": {
    "colab": {
      "provenance": [],
      "include_colab_link": true
    },
    "kernelspec": {
      "name": "python3",
      "display_name": "Python 3"
    },
    "language_info": {
      "name": "python"
    }
  },
  "cells": [
    {
      "cell_type": "markdown",
      "metadata": {
        "id": "view-in-github",
        "colab_type": "text"
      },
      "source": [
        "<a href=\"https://colab.research.google.com/github/chirag912/first-project/blob/main/CNN_CIFAR10_Assignment.ipynb\" target=\"_parent\"><img src=\"https://colab.research.google.com/assets/colab-badge.svg\" alt=\"Open In Colab\"/></a>"
      ]
    },
    {
      "cell_type": "code",
      "execution_count": null,
      "metadata": {
        "id": "RzHmMirVapST"
      },
      "outputs": [],
      "source": [
        "from keras.datasets import cifar10\n",
        "from keras.models import Sequential\n",
        "from keras.layers import Dense, Dropout, Conv2D, MaxPool2D, Flatten\n",
        "from keras.utils import to_categorical\n",
        "import numpy as np\n",
        "import pandas as pd\n",
        "import matplotlib.pyplot as plt"
      ]
    },
    {
      "cell_type": "code",
      "source": [
        "(X_train, y_train), (X_test, y_test) = cifar10.load_data()"
      ],
      "metadata": {
        "id": "8t0hbi9XarYn",
        "colab": {
          "base_uri": "https://localhost:8080/"
        },
        "outputId": "8387c39f-d7db-44d8-e42a-6e534fbd1936"
      },
      "execution_count": null,
      "outputs": [
        {
          "output_type": "stream",
          "name": "stdout",
          "text": [
            "Downloading data from https://www.cs.toronto.edu/~kriz/cifar-10-python.tar.gz\n",
            "170498071/170498071 [==============================] - 3s 0us/step\n"
          ]
        }
      ]
    },
    {
      "cell_type": "code",
      "source": [
        "print(\"X_train shape :\", X_train.shape)\n",
        "print(\"y_train shape :\", y_train.shape)\n",
        "print(\"X_test shape  :\", X_test.shape)\n",
        "print(\"y_test shape  :\", y_test.shape)"
      ],
      "metadata": {
        "colab": {
          "base_uri": "https://localhost:8080/"
        },
        "id": "iDUQ38Qvatru",
        "outputId": "ff37b079-08d5-47ca-98e4-d6e6310f913c"
      },
      "execution_count": null,
      "outputs": [
        {
          "output_type": "stream",
          "name": "stdout",
          "text": [
            "X_train shape : (50000, 32, 32, 3)\n",
            "y_train shape : (50000, 1)\n",
            "X_test shape  : (10000, 32, 32, 3)\n",
            "y_test shape  : (10000, 1)\n"
          ]
        }
      ]
    },
    {
      "cell_type": "code",
      "source": [
        "X_train[0]"
      ],
      "metadata": {
        "colab": {
          "base_uri": "https://localhost:8080/"
        },
        "id": "LCtJcU0BazM4",
        "outputId": "9bc4adac-a3f2-4d60-8e00-c0956268beca"
      },
      "execution_count": null,
      "outputs": [
        {
          "output_type": "execute_result",
          "data": {
            "text/plain": [
              "array([[[ 59,  62,  63],\n",
              "        [ 43,  46,  45],\n",
              "        [ 50,  48,  43],\n",
              "        ...,\n",
              "        [158, 132, 108],\n",
              "        [152, 125, 102],\n",
              "        [148, 124, 103]],\n",
              "\n",
              "       [[ 16,  20,  20],\n",
              "        [  0,   0,   0],\n",
              "        [ 18,   8,   0],\n",
              "        ...,\n",
              "        [123,  88,  55],\n",
              "        [119,  83,  50],\n",
              "        [122,  87,  57]],\n",
              "\n",
              "       [[ 25,  24,  21],\n",
              "        [ 16,   7,   0],\n",
              "        [ 49,  27,   8],\n",
              "        ...,\n",
              "        [118,  84,  50],\n",
              "        [120,  84,  50],\n",
              "        [109,  73,  42]],\n",
              "\n",
              "       ...,\n",
              "\n",
              "       [[208, 170,  96],\n",
              "        [201, 153,  34],\n",
              "        [198, 161,  26],\n",
              "        ...,\n",
              "        [160, 133,  70],\n",
              "        [ 56,  31,   7],\n",
              "        [ 53,  34,  20]],\n",
              "\n",
              "       [[180, 139,  96],\n",
              "        [173, 123,  42],\n",
              "        [186, 144,  30],\n",
              "        ...,\n",
              "        [184, 148,  94],\n",
              "        [ 97,  62,  34],\n",
              "        [ 83,  53,  34]],\n",
              "\n",
              "       [[177, 144, 116],\n",
              "        [168, 129,  94],\n",
              "        [179, 142,  87],\n",
              "        ...,\n",
              "        [216, 184, 140],\n",
              "        [151, 118,  84],\n",
              "        [123,  92,  72]]], dtype=uint8)"
            ]
          },
          "metadata": {},
          "execution_count": 5
        }
      ]
    },
    {
      "cell_type": "code",
      "source": [
        "plt.imshow(X_train[0])\n",
        "plt.show()"
      ],
      "metadata": {
        "colab": {
          "base_uri": "https://localhost:8080/",
          "height": 430
        },
        "id": "EHAMBDhDa18D",
        "outputId": "b6934060-e672-4e03-8d9b-16447624ba0a"
      },
      "execution_count": null,
      "outputs": [
        {
          "output_type": "display_data",
          "data": {
            "text/plain": [
              "<Figure size 640x480 with 1 Axes>"
            ],
            "image/png": "[encoded data removed]"
          },
          "metadata": {}
        }
      ]
    },
    {
      "cell_type": "code",
      "source": [
        "y_train[0]"
      ],
      "metadata": {
        "colab": {
          "base_uri": "https://localhost:8080/"
        },
        "id": "tyGm85P7a6IM",
        "outputId": "79df185e-2c9b-4727-e088-8a686b5b2042"
      },
      "execution_count": null,
      "outputs": [
        {
          "output_type": "execute_result",
          "data": {
            "text/plain": [
              "array([6], dtype=uint8)"
            ]
          },
          "metadata": {},
          "execution_count": 7
        }
      ]
    },
    {
      "cell_type": "code",
      "source": [
        "X_train = X_train.reshape(X_train.shape[0], 32, 32, 3)\n",
        "X_test = X_test.reshape(X_test.shape[0], 32, 32, 3 )\n",
        "X_train = X_train.astype('float32')\n",
        "X_test = X_test.astype('float32')"
      ],
      "metadata": {
        "id": "Rj_K8yeXbAI0"
      },
      "execution_count": null,
      "outputs": []
    },
    {
      "cell_type": "code",
      "source": [
        "print(\"X_train shape :\", X_train.shape)\n",
        "print(\"y_train shape :\", y_train.shape)\n",
        "print(\"X_test shape  :\", X_test.shape)\n",
        "print(\"y_test shape  :\", y_test.shape)"
      ],
      "metadata": {
        "colab": {
          "base_uri": "https://localhost:8080/"
        },
        "id": "gZzsnfUubCW2",
        "outputId": "1680ab14-23f9-4faa-ab30-2f9bd3f2a1bc"
      },
      "execution_count": null,
      "outputs": [
        {
          "output_type": "stream",
          "name": "stdout",
          "text": [
            "X_train shape : (50000, 32, 32, 3)\n",
            "y_train shape : (50000, 1)\n",
            "X_test shape  : (10000, 32, 32, 3)\n",
            "y_test shape  : (10000, 1)\n"
          ]
        }
      ]
    },
    {
      "cell_type": "code",
      "source": [
        "X_train /= 216\n",
        "X_test /= 216"
      ],
      "metadata": {
        "id": "4k9bN3cIpNSG"
      },
      "execution_count": null,
      "outputs": []
    },
    {
      "cell_type": "code",
      "source": [
        "X_train[0]"
      ],
      "metadata": {
        "colab": {
          "base_uri": "https://localhost:8080/"
        },
        "id": "Crd_6JQebSkh",
        "outputId": "a52f7036-723b-45e0-e13e-d367abbdd7f8"
      },
      "execution_count": null,
      "outputs": [
        {
          "output_type": "execute_result",
          "data": {
            "text/plain": [
              "array([[[0.27314815, 0.28703704, 0.29166666],\n",
              "        [0.19907407, 0.21296297, 0.20833333],\n",
              "        [0.23148148, 0.22222222, 0.19907407],\n",
              "        ...,\n",
              "        [0.7314815 , 0.6111111 , 0.5       ],\n",
              "        [0.7037037 , 0.5787037 , 0.4722222 ],\n",
              "        [0.6851852 , 0.5740741 , 0.47685185]],\n",
              "\n",
              "       [[0.07407407, 0.09259259, 0.09259259],\n",
              "        [0.        , 0.        , 0.        ],\n",
              "        [0.08333334, 0.03703704, 0.        ],\n",
              "        ...,\n",
              "        [0.5694444 , 0.4074074 , 0.25462964],\n",
              "        [0.5509259 , 0.38425925, 0.23148148],\n",
              "        [0.5648148 , 0.4027778 , 0.2638889 ]],\n",
              "\n",
              "       [[0.11574074, 0.11111111, 0.09722222],\n",
              "        [0.07407407, 0.03240741, 0.        ],\n",
              "        [0.22685185, 0.125     , 0.03703704],\n",
              "        ...,\n",
              "        [0.5462963 , 0.3888889 , 0.23148148],\n",
              "        [0.5555556 , 0.3888889 , 0.23148148],\n",
              "        [0.5046296 , 0.33796296, 0.19444445]],\n",
              "\n",
              "       ...,\n",
              "\n",
              "       [[0.962963  , 0.787037  , 0.44444445],\n",
              "        [0.9305556 , 0.7083333 , 0.1574074 ],\n",
              "        [0.9166667 , 0.7453704 , 0.12037037],\n",
              "        ...,\n",
              "        [0.7407407 , 0.6157407 , 0.32407406],\n",
              "        [0.25925925, 0.14351852, 0.03240741],\n",
              "        [0.24537037, 0.1574074 , 0.09259259]],\n",
              "\n",
              "       [[0.8333333 , 0.6435185 , 0.44444445],\n",
              "        [0.8009259 , 0.5694444 , 0.19444445],\n",
              "        [0.8611111 , 0.6666667 , 0.1388889 ],\n",
              "        ...,\n",
              "        [0.8518519 , 0.6851852 , 0.4351852 ],\n",
              "        [0.44907406, 0.28703704, 0.1574074 ],\n",
              "        [0.38425925, 0.24537037, 0.1574074 ]],\n",
              "\n",
              "       [[0.8194444 , 0.6666667 , 0.537037  ],\n",
              "        [0.7777778 , 0.5972222 , 0.4351852 ],\n",
              "        [0.8287037 , 0.6574074 , 0.4027778 ],\n",
              "        ...,\n",
              "        [1.        , 0.8518519 , 0.6481481 ],\n",
              "        [0.6990741 , 0.5462963 , 0.3888889 ],\n",
              "        [0.5694444 , 0.42592594, 0.33333334]]], dtype=float32)"
            ]
          },
          "metadata": {},
          "execution_count": 11
        }
      ]
    },
    {
      "cell_type": "code",
      "source": [
        "n_classes = 10\n",
        "print(\"Shape before one-hot encoding : \", y_train.shape)\n",
        "Y_train = to_categorical(y_train, n_classes)\n",
        "Y_test  =  to_categorical(y_test, n_classes)\n",
        "print(\"Shape after one-hot encoding  : \", Y_train.shape)"
      ],
      "metadata": {
        "colab": {
          "base_uri": "https://localhost:8080/"
        },
        "id": "JJVeyaL2bdYt",
        "outputId": "ff6e7d20-8963-429f-f4b1-92e75228f3ff"
      },
      "execution_count": null,
      "outputs": [
        {
          "output_type": "stream",
          "name": "stdout",
          "text": [
            "Shape before one-hot encoding :  (50000, 1)\n",
            "Shape after one-hot encoding  :  (50000, 10)\n"
          ]
        }
      ]
    },
    {
      "cell_type": "code",
      "source": [
        "y_train[0]"
      ],
      "metadata": {
        "colab": {
          "base_uri": "https://localhost:8080/"
        },
        "id": "kYCEY3jKbxe6",
        "outputId": "7370ab06-dff3-41ee-a3a7-4ec1a18e04de"
      },
      "execution_count": null,
      "outputs": [
        {
          "output_type": "execute_result",
          "data": {
            "text/plain": [
              "array([6], dtype=uint8)"
            ]
          },
          "metadata": {},
          "execution_count": 13
        }
      ]
    },
    {
      "cell_type": "code",
      "source": [
        "Y_train[0]"
      ],
      "metadata": {
        "colab": {
          "base_uri": "https://localhost:8080/"
        },
        "id": "Ev3AmFEpb1c7",
        "outputId": "45607614-aa44-4e2d-dadd-ecbf19783661"
      },
      "execution_count": null,
      "outputs": [
        {
          "output_type": "execute_result",
          "data": {
            "text/plain": [
              "array([0., 0., 0., 0., 0., 0., 1., 0., 0., 0.], dtype=float32)"
            ]
          },
          "metadata": {},
          "execution_count": 14
        }
      ]
    },
    {
      "cell_type": "code",
      "source": [
        "model = Sequential()\n",
        "model.add(Conv2D(25, kernel_size=(3,3), strides=(1,1), padding='valid', activation='relu', input_shape=(32,32,3)))\n",
        "model.add(MaxPool2D(pool_size=(1,1)))\n",
        "model.add(Flatten())\n",
        "model.add(Dense(250, activation='relu'))\n",
        "model.add(Dense (200, activation='relu'))\n",
        "model.add(Dense(150, activation= 'relu'))\n",
        "model.add(Dense(100, activation='relu'))\n",
        "model.add(Dense(50, activation='relu'))\n",
        "model.add(Dense(10, activation='softmax'))"
      ],
      "metadata": {
        "id": "ILLkYKmYb3vA"
      },
      "execution_count": null,
      "outputs": []
    },
    {
      "cell_type": "code",
      "source": [
        "model.summary(line_length=50)"
      ],
      "metadata": {
        "colab": {
          "base_uri": "https://localhost:8080/"
        },
        "id": "NzBVDd4Jb635",
        "outputId": "58480bb3-227d-44f4-90b1-5d1ba8fb3baf"
      },
      "execution_count": null,
      "outputs": [
        {
          "output_type": "stream",
          "name": "stdout",
          "text": [
            "Model: \"sequential\"\n",
            "__________________________________________________\n",
            " Layer (type)         Output Shape        Param # \n",
            "==================================================\n",
            " conv2d (Conv2D)      (None, 30, 30, 25   700     \n",
            "                      )                           \n",
            "                                                  \n",
            " max_pooling2d (MaxP  (None, 30, 30, 25   0       \n",
            " ooling2D)            )                           \n",
            "                                                  \n",
            " flatten (Flatten)    (None, 22500)       0       \n",
            "                                                  \n",
            " dense (Dense)        (None, 250)         5625250 \n",
            "                                                  \n",
            " dense_1 (Dense)      (None, 200)         50200   \n",
            "                                                  \n",
            " dense_2 (Dense)      (None, 150)         30150   \n",
            "                                                  \n",
            " dense_3 (Dense)      (None, 100)         15100   \n",
            "                                                  \n",
            " dense_4 (Dense)      (None, 50)          5050    \n",
            "                                                  \n",
            " dense_5 (Dense)      (None, 10)          510     \n",
            "                                                  \n",
            "==================================================\n",
            "Total params: 5726960 (21.85 MB)\n",
            "Trainable params: 5726960 (21.85 MB)\n",
            "Non-trainable params: 0 (0.00 Byte)\n",
            "__________________________________________________\n"
          ]
        }
      ]
    },
    {
      "cell_type": "code",
      "source": [
        "model.compile(loss='categorical_crossentropy', metrics=['accuracy'], optimizer='adam')"
      ],
      "metadata": {
        "id": "48VG4ze6b9gU"
      },
      "execution_count": null,
      "outputs": []
    },
    {
      "cell_type": "code",
      "source": [
        "model.fit(X_train, Y_train, batch_size=110,epochs=20)"
      ],
      "metadata": {
        "colab": {
          "base_uri": "https://localhost:8080/"
        },
        "id": "ilP6lo5HcBX4",
        "outputId": "99576568-be28-4ed5-b67d-710ae0f3762c"
      },
      "execution_count": null,
      "outputs": [
        {
          "output_type": "stream",
          "name": "stdout",
          "text": [
            "Epoch 1/20\n",
            "455/455 [==============================] - 78s 172ms/step - loss: 1.3403 - accuracy: 0.5198\n",
            "Epoch 2/20\n",
            "455/455 [==============================] - 82s 181ms/step - loss: 1.1448 - accuracy: 0.5942\n",
            "Epoch 3/20\n",
            "455/455 [==============================] - 84s 184ms/step - loss: 0.9983 - accuracy: 0.6483\n",
            "Epoch 4/20\n",
            "455/455 [==============================] - 80s 176ms/step - loss: 0.8627 - accuracy: 0.6994\n",
            "Epoch 5/20\n",
            "455/455 [==============================] - 78s 173ms/step - loss: 0.7307 - accuracy: 0.7458\n",
            "Epoch 6/20\n",
            "455/455 [==============================] - 80s 176ms/step - loss: 0.6077 - accuracy: 0.7909\n",
            "Epoch 7/20\n",
            "455/455 [==============================] - 81s 178ms/step - loss: 0.4948 - accuracy: 0.8305\n",
            "Epoch 8/20\n",
            "455/455 [==============================] - 80s 176ms/step - loss: 0.4030 - accuracy: 0.8622\n",
            "Epoch 9/20\n",
            "455/455 [==============================] - 80s 177ms/step - loss: 0.3383 - accuracy: 0.8857\n",
            "Epoch 10/20\n",
            "455/455 [==============================] - 80s 176ms/step - loss: 0.2576 - accuracy: 0.9127\n",
            "Epoch 11/20\n",
            "455/455 [==============================] - 82s 180ms/step - loss: 0.2319 - accuracy: 0.9218\n",
            "Epoch 12/20\n",
            "455/455 [==============================] - 79s 174ms/step - loss: 0.1935 - accuracy: 0.9342\n",
            "Epoch 13/20\n",
            "455/455 [==============================] - 80s 176ms/step - loss: 0.1618 - accuracy: 0.9450\n",
            "Epoch 14/20\n",
            "455/455 [==============================] - 79s 173ms/step - loss: 0.1397 - accuracy: 0.9533\n",
            "Epoch 15/20\n",
            "455/455 [==============================] - 81s 177ms/step - loss: 0.1341 - accuracy: 0.9550\n",
            "Epoch 16/20\n",
            "455/455 [==============================] - 83s 183ms/step - loss: 0.1169 - accuracy: 0.9611\n",
            "Epoch 17/20\n",
            "455/455 [==============================] - 80s 175ms/step - loss: 0.1149 - accuracy: 0.9618\n",
            "Epoch 18/20\n",
            "455/455 [==============================] - 80s 176ms/step - loss: 0.1011 - accuracy: 0.9664\n",
            "Epoch 19/20\n",
            "455/455 [==============================] - 80s 176ms/step - loss: 0.0941 - accuracy: 0.9697\n",
            "Epoch 20/20\n",
            "455/455 [==============================] - 82s 180ms/step - loss: 0.0905 - accuracy: 0.9700\n"
          ]
        },
        {
          "output_type": "execute_result",
          "data": {
            "text/plain": [
              "<keras.src.callbacks.History at 0x7965a0d6dc60>"
            ]
          },
          "metadata": {},
          "execution_count": 27
        }
      ]
    },
    {
      "cell_type": "code",
      "source": [
        " test_loss, test_acc = model.evaluate(X_test, Y_test)"
      ],
      "metadata": {
        "colab": {
          "base_uri": "https://localhost:8080/"
        },
        "id": "TFSllBLrcFmJ",
        "outputId": "fc3ce9dc-515e-421c-9f4a-ed7a93e3116b"
      },
      "execution_count": null,
      "outputs": [
        {
          "output_type": "stream",
          "name": "stdout",
          "text": [
            "313/313 [==============================] - 6s 18ms/step - loss: 2.6953 - accuracy: 0.5892\n"
          ]
        }
      ]
    },
    {
      "cell_type": "code",
      "source": [
        "print('Model Accuracy :', test_acc)\n",
        "print('Model Loss     :', test_loss)"
      ],
      "metadata": {
        "colab": {
          "base_uri": "https://localhost:8080/"
        },
        "id": "eXFKcE8FeOMa",
        "outputId": "cb73e050-e609-4d33-b345-8fa02f250dee"
      },
      "execution_count": null,
      "outputs": [
        {
          "output_type": "stream",
          "name": "stdout",
          "text": [
            "Model Accuracy : 0.5892000198364258\n",
            "Model Loss     : 2.695317268371582\n"
          ]
        }
      ]
    },
    {
      "cell_type": "code",
      "source": [
        "X_test[0]"
      ],
      "metadata": {
        "colab": {
          "base_uri": "https://localhost:8080/"
        },
        "id": "SiazcnTkeTIO",
        "outputId": "e713cc62-ecd8-498f-bbe7-eee59191a504"
      },
      "execution_count": null,
      "outputs": [
        {
          "output_type": "execute_result",
          "data": {
            "text/plain": [
              "array([[[0.7314815 , 0.5185185 , 0.22685185],\n",
              "        [0.7361111 , 0.5138889 , 0.2175926 ],\n",
              "        [0.7638889 , 0.537037  , 0.2361111 ],\n",
              "        ...,\n",
              "        [0.6342593 , 0.4398148 , 0.16666667],\n",
              "        [0.5833333 , 0.4212963 , 0.16666667],\n",
              "        [0.537037  , 0.3935185 , 0.15277778]],\n",
              "\n",
              "       [[0.7037037 , 0.5185185 , 0.2361111 ],\n",
              "        [0.6990741 , 0.5092593 , 0.18518518],\n",
              "        [0.7361111 , 0.5277778 , 0.20833333],\n",
              "        ...,\n",
              "        [0.6296296 , 0.4398148 , 0.14351852],\n",
              "        [0.5787037 , 0.4212963 , 0.14814815],\n",
              "        [0.5509259 , 0.4074074 , 0.1574074 ]],\n",
              "\n",
              "       [[0.6990741 , 0.5092593 , 0.2175926 ],\n",
              "        [0.6990741 , 0.5046296 , 0.15277778],\n",
              "        [0.7314815 , 0.5138889 , 0.16666667],\n",
              "        ...,\n",
              "        [0.6435185 , 0.4537037 , 0.1574074 ],\n",
              "        [0.6018519 , 0.4398148 , 0.1574074 ],\n",
              "        [0.5555556 , 0.41203704, 0.15277778]],\n",
              "\n",
              "       ...,\n",
              "\n",
              "       [[0.3148148 , 0.5740741 , 0.8194444 ],\n",
              "        [0.19444445, 0.46296296, 0.6851852 ],\n",
              "        [0.14351852, 0.4074074 , 0.6342593 ],\n",
              "        ...,\n",
              "        [0.17592593, 0.44907406, 0.6759259 ],\n",
              "        [0.06018519, 0.2962963 , 0.5       ],\n",
              "        [0.18518518, 0.3935185 , 0.587963  ]],\n",
              "\n",
              "       [[0.2824074 , 0.537037  , 0.7777778 ],\n",
              "        [0.22685185, 0.4722222 , 0.6851852 ],\n",
              "        [0.16203703, 0.3935185 , 0.6111111 ],\n",
              "        ...,\n",
              "        [0.12037037, 0.37962964, 0.6018519 ],\n",
              "        [0.13425925, 0.37962964, 0.5833333 ],\n",
              "        [0.09259259, 0.2962963 , 0.49537036]],\n",
              "\n",
              "       [[0.25      , 0.49537036, 0.7407407 ],\n",
              "        [0.25925925, 0.4861111 , 0.6898148 ],\n",
              "        [0.20833333, 0.41203704, 0.6111111 ],\n",
              "        ...,\n",
              "        [0.11111111, 0.3564815 , 0.5740741 ],\n",
              "        [0.1574074 , 0.3888889 , 0.5972222 ],\n",
              "        [0.09722222, 0.3101852 , 0.5092593 ]]], dtype=float32)"
            ]
          },
          "metadata": {},
          "execution_count": 30
        }
      ]
    },
    {
      "cell_type": "code",
      "source": [
        "plt.imshow(X_test[0])\n",
        "plt.show()"
      ],
      "metadata": {
        "colab": {
          "base_uri": "https://localhost:8080/",
          "height": 447
        },
        "id": "pUJ7afg7oukm",
        "outputId": "99808146-2e10-4d4b-b424-880a38bab90b"
      },
      "execution_count": null,
      "outputs": [
        {
          "output_type": "stream",
          "name": "stderr",
          "text": [
            "WARNING:matplotlib.image:Clipping input data to the valid range for imshow with RGB data ([0..1] for floats or [0..255] for integers).\n"
          ]
        },
        {
          "output_type": "display_data",
          "data": {
            "text/plain": [
              "<Figure size 640x480 with 1 Axes>"
            ],
            "image/png": "[encoded data removed]"
          },
          "metadata": {}
        }
      ]
    },
    {
      "cell_type": "code",
      "source": [
        "X_test[0].shape"
      ],
      "metadata": {
        "colab": {
          "base_uri": "https://localhost:8080/"
        },
        "id": "cdxSVsojpAS9",
        "outputId": "0d1af500-98e7-4bfe-b080-0d12253111a3"
      },
      "execution_count": null,
      "outputs": [
        {
          "output_type": "execute_result",
          "data": {
            "text/plain": [
              "(32, 32, 3)"
            ]
          },
          "metadata": {},
          "execution_count": 32
        }
      ]
    },
    {
      "cell_type": "code",
      "source": [
        "model.predict(X_test[0].reshape(1,32,32,3))"
      ],
      "metadata": {
        "colab": {
          "base_uri": "https://localhost:8080/"
        },
        "id": "d8wbXVb1pFsT",
        "outputId": "a049d244-f31e-4a72-de17-b3f1026a09ce"
      },
      "execution_count": null,
      "outputs": [
        {
          "output_type": "stream",
          "name": "stdout",
          "text": [
            "1/1 [==============================] - 0s 372ms/step\n"
          ]
        },
        {
          "output_type": "execute_result",
          "data": {
            "text/plain": [
              "array([[1.8637327e-06, 5.7780642e-07, 1.8960624e-07, 9.9034709e-01,\n",
              "        5.5413490e-10, 9.5734810e-03, 7.6705044e-07, 9.1040732e-08,\n",
              "        6.9024245e-05, 6.9016901e-06]], dtype=float32)"
            ]
          },
          "metadata": {},
          "execution_count": 34
        }
      ]
    },
    {
      "cell_type": "code",
      "source": [
        "np.argmax(model.predict(X_test[0].reshape(1, 32,32, 3)))"
      ],
      "metadata": {
        "colab": {
          "base_uri": "https://localhost:8080/"
        },
        "id": "r8IUrSogH2Do",
        "outputId": "1c2df864-42ac-4ee2-c557-1ba394e41ab3"
      },
      "execution_count": null,
      "outputs": [
        {
          "output_type": "stream",
          "name": "stdout",
          "text": [
            "1/1 [==============================] - 0s 98ms/step\n"
          ]
        },
        {
          "output_type": "execute_result",
          "data": {
            "text/plain": [
              "3"
            ]
          },
          "metadata": {},
          "execution_count": 36
        }
      ]
    },
    {
      "cell_type": "code",
      "source": [],
      "metadata": {
        "id": "rqJ-Ko_tKLMc"
      },
      "execution_count": null,
      "outputs": []
    }
  ]
}