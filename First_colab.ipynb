{
  "nbformat": 4,
  "nbformat_minor": 0,
  "metadata": {
    "colab": {
      "provenance": [],
      "authorship_tag": "ABX9TyPlJ8EZkIReOgdLr9CompHH",
      "include_colab_link": true
    },
    "kernelspec": {
      "name": "python3",
      "display_name": "Python 3"
    },
    "language_info": {
      "name": "python"
    }
  },
  "cells": [
    {
      "cell_type": "markdown",
      "metadata": {
        "id": "view-in-github",
        "colab_type": "text"
      },
      "source": [
        "<a href=\"https://colab.research.google.com/github/chirag912/first-project/blob/main/First_colab.ipynb\" target=\"_parent\"><img src=\"https://colab.research.google.com/assets/colab-badge.svg\" alt=\"Open In Colab\"/></a>"
      ]
    },
    {
      "cell_type": "code",
      "execution_count": 1,
      "metadata": {
        "colab": {
          "base_uri": "https://localhost:8080/"
        },
        "id": "LYY87S_jRNOW",
        "outputId": "3931c76c-43b6-4026-d5c6-5e79e7a4d3a3"
      },
      "outputs": [
        {
          "output_type": "stream",
          "name": "stdout",
          "text": [
            "Python 3.10.12\n"
          ]
        }
      ],
      "source": [
        "!python --version"
      ]
    },
    {
      "cell_type": "markdown",
      "source": [
        "# Header 1\n",
        "## Header 2\n",
        "### Header 3\n"
      ],
      "metadata": {
        "id": "Dmn-l3YQRell"
      }
    },
    {
      "cell_type": "code",
      "source": [],
      "metadata": {
        "id": "x1Uk0AKERY-v"
      },
      "execution_count": null,
      "outputs": []
    }
  ]
}